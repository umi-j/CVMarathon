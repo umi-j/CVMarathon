{
 "cells": [
  {
   "cell_type": "markdown",
   "metadata": {},
   "source": [
    "# API 資料串接 - 以 Dcard API 實作範例\n",
    "\n",
    "* 了解 Dcard API 使用方式與回傳內容\n",
    "* 撰寫程式存取 API 且解析 JSON 格式資料\n"
   ]
  },
  {
   "cell_type": "markdown",
   "metadata": {},
   "source": [
    "## 作業目標\n",
    "\n",
    "* 請利用 API: https://www.dcard.tw/_api/forums/pet/posts?popular=true 回答下列問題：\n",
    "\n",
    "1. 這個 API 一次會回傳幾筆資料？每一筆資料包含哪些欄位？\n",
    "2. 取出每一筆資料的「標題」、「貼文時間」、「留言人數」、「按讚人數」\n",
    "3. 計算熱門/非熱門文章的「平均留言人數」與「平均按讚人數」"
   ]
  },
  {
   "cell_type": "code",
   "execution_count": 16,
   "metadata": {},
   "outputs": [
    {
     "data": {
      "text/plain": [
       "{'anonymousDepartment': False,\n",
       " 'anonymousSchool': False,\n",
       " 'commentCount': 64,\n",
       " 'createdAt': '2020-07-08T16:53:53.835Z',\n",
       " 'customStyle': None,\n",
       " 'department': 'nightsnow0710',\n",
       " 'excerpt': '※注：此文單純只是博君一笑※，然後啊（´・ω・`）如果真的多錢了的話，建議看看 B26 說的處理方式，我也不說什麼了（´・ω・`），直接附上截圖好了，是我妹，🦁是我媽，其實我本來打算自己笑一笑就算了',\n",
       " 'forumAlias': 'funny',\n",
       " 'forumId': 'a1aaa6e6-2594-4968-b7dc-e1b14bea96f4',\n",
       " 'forumName': '有趣',\n",
       " 'gender': 'F',\n",
       " 'hidden': False,\n",
       " 'id': 234019071,\n",
       " 'isSuspiciousAccount': False,\n",
       " 'layout': 'classic',\n",
       " 'likeCount': 2532,\n",
       " 'media': [],\n",
       " 'mediaMeta': [{'createdAt': '2020-07-08T16:53:53.835Z',\n",
       "   'id': '5b9efc79-f9cb-4865-beb2-ae5468408fc3',\n",
       "   'normalizedUrl': 'https://imgur.com/X6pS0W9',\n",
       "   'tags': ['ANNOTATED'],\n",
       "   'thumbnail': 'https://i.imgur.com/X6pS0W9l.jpg',\n",
       "   'type': 'image/imgur',\n",
       "   'updatedAt': '2020-07-09T16:48:40.699Z',\n",
       "   'url': 'https://i.imgur.com/X6pS0W9.jpg'},\n",
       "  {'createdAt': '2020-07-08T16:53:53.835Z',\n",
       "   'id': 'ed1d3cbe-94b6-473e-b53c-182f6ab5b17d',\n",
       "   'normalizedUrl': 'https://imgur.com/9IWQeZD',\n",
       "   'tags': ['ANNOTATED'],\n",
       "   'thumbnail': 'https://i.imgur.com/9IWQeZDl.jpg',\n",
       "   'type': 'image/imgur',\n",
       "   'updatedAt': '2020-07-09T16:48:40.699Z',\n",
       "   'url': 'https://i.imgur.com/9IWQeZD.jpg'},\n",
       "  {'createdAt': '2020-07-08T16:53:53.835Z',\n",
       "   'id': '59e3045d-641a-4dfe-a353-35acdcdebe85',\n",
       "   'normalizedUrl': 'https://imgur.com/NcWKkFK',\n",
       "   'tags': ['ANNOTATED'],\n",
       "   'thumbnail': 'https://i.imgur.com/NcWKkFKl.jpg',\n",
       "   'type': 'image/imgur',\n",
       "   'updatedAt': '2020-07-09T16:48:40.699Z',\n",
       "   'url': 'https://i.imgur.com/NcWKkFK.jpg'},\n",
       "  {'createdAt': '2020-07-08T16:53:53.835Z',\n",
       "   'id': '933b9d2f-5605-4e13-9d99-9190a139e448',\n",
       "   'normalizedUrl': 'https://imgur.com/iQOQuVA',\n",
       "   'tags': ['ANNOTATED'],\n",
       "   'thumbnail': 'https://i.imgur.com/iQOQuVAl.jpg',\n",
       "   'type': 'image/imgur',\n",
       "   'updatedAt': '2020-07-09T16:48:40.699Z',\n",
       "   'url': 'https://i.imgur.com/iQOQuVA.jpg'},\n",
       "  {'createdAt': '2020-07-09T13:59:14.158Z',\n",
       "   'id': '68c3e633-e28a-451c-80a4-5fd2e41a6281',\n",
       "   'normalizedUrl': 'https://imgur.com/KgNzqiX',\n",
       "   'tags': ['ANNOTATED'],\n",
       "   'thumbnail': 'https://i.imgur.com/KgNzqiXl.jpg',\n",
       "   'type': 'image/imgur',\n",
       "   'updatedAt': '2020-07-09T16:48:40.699Z',\n",
       "   'url': 'https://i.imgur.com/KgNzqiX.jpg'},\n",
       "  {'createdAt': '2020-07-09T10:17:19.013Z',\n",
       "   'id': '7de0df4f-0954-4b85-a758-a9868495143a',\n",
       "   'normalizedUrl': 'https://imgur.com/HmDAlpb',\n",
       "   'tags': ['ANNOTATED'],\n",
       "   'thumbnail': 'https://i.imgur.com/HmDAlpbl.jpg',\n",
       "   'type': 'image/imgur',\n",
       "   'updatedAt': '2020-07-09T16:48:40.699Z',\n",
       "   'url': 'https://i.imgur.com/HmDAlpb.jpg'},\n",
       "  {'createdAt': '2020-07-09T10:17:19.013Z',\n",
       "   'id': 'e835c81e-bccb-45a8-9381-fa2bb2a11560',\n",
       "   'normalizedUrl': 'https://imgur.com/rrrR6L1',\n",
       "   'tags': ['ANNOTATED'],\n",
       "   'thumbnail': 'https://i.imgur.com/rrrR6L1l.jpg',\n",
       "   'type': 'image/imgur',\n",
       "   'updatedAt': '2020-07-09T16:48:40.699Z',\n",
       "   'url': 'https://i.imgur.com/rrrR6L1.jpg'}],\n",
       " 'meta': {'layout': 'classic'},\n",
       " 'nsfw': False,\n",
       " 'pinned': False,\n",
       " 'postAvatar': '',\n",
       " 'reactions': [{'count': 2360, 'id': '286f599c-f86a-4932-82f0-f5a06f1eca03'},\n",
       "  {'count': 167, 'id': 'e8e6bc5d-41b0-4129-b134-97507523d7ff'},\n",
       "  {'count': 2, 'id': '011ead16-9b83-4729-9fde-c588920c6c2d'},\n",
       "  {'count': 2, 'id': '4b018f48-e184-445f-adf1-fc8e04ba09b9'},\n",
       "  {'count': 1, 'id': '514c2569-fd53-4d9d-a415-bf0f88e7329f'}],\n",
       " 'replyId': None,\n",
       " 'replyTitle': None,\n",
       " 'reportReasonText': '',\n",
       " 'school': '裝瘋賣傻過千百難關',\n",
       " 'tags': ['HIDE_THUMBNAIL'],\n",
       " 'title': '戶頭突然多＄300,000，妹妹的反應',\n",
       " 'topics': ['所以我妹要是戶頭突然多錢', '就會全部先領出來', '啊不就好險是我先看到', '不然明天頭條可能會是', '阿嬤被孫女盜領'],\n",
       " 'updatedAt': '2020-07-09T16:48:40.699Z',\n",
       " 'withImages': True,\n",
       " 'withNickname': True,\n",
       " 'withVideos': False}"
      ]
     },
     "execution_count": 16,
     "metadata": {},
     "output_type": "execute_result"
    }
   ],
   "source": [
    "# 1. 這個 API 一次會回傳幾筆資料？每一筆資料包含哪些欄位？\n",
    "\n",
    "import requests\n",
    "import json\n",
    "\n",
    "r = requests.get('https://www.dcard.tw/_api/forums/funny/posts?popular=true')\n",
    "data = json.loads(r.text)\n",
    "\n",
    "len(data)\n",
    "#一次回傳30筆資料\n",
    "data[0]\n"
   ]
  },
  {
   "cell_type": "code",
   "execution_count": 25,
   "metadata": {},
   "outputs": [
    {
     "name": "stdout",
     "output_type": "stream",
     "text": [
      "標題： 戶頭突然多＄300,000，妹妹的反應 \n",
      "貼文時間 2020-07-08T16:53:53.835Z \n",
      "留言人數 64 \n",
      "按讚人數 2532\n"
     ]
    }
   ],
   "source": [
    "# 2. 取出每一筆資料的「標題」、「貼文時間」、「留言人數」、「按讚人數」\n",
    "print('標題：',data[0]['title'],'\\n''貼文時間',data[0]['createdAt'],'\\n''留言人數',data[0]['commentCount'],'\\n''按讚人數',data[0]['likeCount'])\n",
    "\n",
    "\n",
    "\n",
    "\n"
   ]
  },
  {
   "cell_type": "code",
   "execution_count": 39,
   "metadata": {},
   "outputs": [
    {
     "name": "stdout",
     "output_type": "stream",
     "text": [
      "熱門文章\n",
      "「平均留言人數」: 19.133333333333333\n",
      "「平均按讚人數」: 365.23333333333335\n",
      "非熱門文章\n",
      "「平均留言人數」: 2.066666666666667\n",
      "「平均按讚人數」: 20.5\n"
     ]
    }
   ],
   "source": [
    "# 3. 計算熱門/非熱門文章的「平均留言人數」與「平均按讚人數」\n",
    "comm = 0\n",
    "like = 0\n",
    "count = 0\n",
    "for d in data:\n",
    "    comm = comm+d['commentCount']\n",
    "    like = like+d['likeCount']\n",
    "    count = count+1\n",
    "print(\"熱門文章\")\n",
    "print(\"「平均留言人數」:\",comm/count)\n",
    "print(\"「平均按讚人數」:\",like/count)\n",
    "\n",
    "\n",
    "nothot = requests.get('https://www.dcard.tw/_api/forums/funny/posts?popular=false')\n",
    "ndata = json.loads(nothot.text)\n",
    "ncomm = 0\n",
    "nlike = 0\n",
    "for nd in ndata:\n",
    "    ncomm = ncomm +nd['commentCount']\n",
    "    nlike = nlike+nd['likeCount']\n",
    "    \n",
    "print(\"非熱門文章\")\n",
    "print(\"「平均留言人數」:\",ncomm/count)\n",
    "print(\"「平均按讚人數」:\",nlike/count)"
   ]
  },
  {
   "cell_type": "code",
   "execution_count": null,
   "metadata": {},
   "outputs": [],
   "source": []
  }
 ],
 "metadata": {
  "kernelspec": {
   "display_name": "Python [default]",
   "language": "python",
   "name": "python3"
  },
  "language_info": {
   "codemirror_mode": {
    "name": "ipython",
    "version": 3
   },
   "file_extension": ".py",
   "mimetype": "text/x-python",
   "name": "python",
   "nbconvert_exporter": "python",
   "pygments_lexer": "ipython3",
   "version": "3.5.6"
  }
 },
 "nbformat": 4,
 "nbformat_minor": 2
}
