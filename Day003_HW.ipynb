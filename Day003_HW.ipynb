{
 "cells": [
  {
   "cell_type": "markdown",
   "metadata": {},
   "source": [
    "# Python 下載XML檔案與解析\n",
    "\n",
    "\n",
    "* 了解 xml 檔案格式與內容\n",
    "* 能夠利用套件存取 xml 格式的檔案\n"
   ]
  },
  {
   "cell_type": "markdown",
   "metadata": {},
   "source": [
    "## 作業目標\n",
    "\n",
    "* 比較一下範例檔案中的「File I/O」與「xmltodict」讀出來的內容有什麼差異\n",
    "\n",
    "* 根據範例檔案的結果：\n",
    "    1. 請問高雄市有多少地區有溫度資料？\n",
    "    2. 請取出每一個地區所記錄的第一個時間點跟溫度\n",
    "    3. 請取出第一個地區所記錄的每一個時間點跟溫度"
   ]
  },
  {
   "cell_type": "markdown",
   "metadata": {},
   "source": [
    "### 比較一下範例檔案中的「File I/O」與「xmltodict」讀出來的內容有什麼差異\n"
   ]
  },
  {
   "cell_type": "code",
   "execution_count": 7,
   "metadata": {},
   "outputs": [
    {
     "name": "stdout",
     "output_type": "stream",
     "text": [
      "<?xml version=\"1.0\" encoding=\"UTF-8\"?>\n",
      "<CUPOY>\n",
      "    <Title>爬蟲馬拉松</Title>\n",
      "    <Author>Wei</Author>\n",
      "    <Chapters>\n",
      "        <Chapter name=\"01\">資料來源與存取</Chapter>\n",
      "        <Chapter name=\"02\">靜態網頁爬蟲</Chapter>\n",
      "        <Chapter name=\"03\">動態網頁爬蟲</Chapter>\n",
      "    </Chapters>\n",
      "</CUPOY>\n"
     ]
    }
   ],
   "source": [
    "#import os\n",
    "files = []\n",
    "files = os.listdir('./data/')\n",
    "with open(\"./Data/sample.xml\", \"r\") as fh:\n",
    "    ff = fh.read()\n",
    "        \n",
    "print(ff)"
   ]
  },
  {
   "cell_type": "code",
   "execution_count": 42,
   "metadata": {},
   "outputs": [
    {
     "name": "stdout",
     "output_type": "stream",
     "text": [
      "爬蟲馬拉松\n",
      "01 資料來源與存取\n",
      "02 靜態網頁爬蟲\n",
      "03 動態網頁爬蟲\n"
     ]
    }
   ],
   "source": [
    "import xmltodict\n",
    "\n",
    "# 存取檔案\n",
    "\n",
    "with open('./data/sample.xml') as fd:\n",
    "    doc = dict(xmltodict.parse(fd.read()))\n",
    "\n",
    "# title\n",
    "print(doc['CUPOY']['Title'])\n",
    "\n",
    "# chapter\n",
    "chapters = doc['CUPOY']['Chapters']['Chapter']\n",
    "for chapter in chapters:\n",
    "    print (chapter['@name'], chapter['#text'])"
   ]
  },
  {
   "cell_type": "markdown",
   "metadata": {},
   "source": [
    "### 根據範例檔案的結果：\n",
    "\n",
    "1. 請問高雄市有多少地區有溫度資料？\n",
    "2. 請取出每一個地區所記錄的第一個時間點跟溫度\n",
    "3. 請取出第一個地區所記錄的每一個時間點跟溫度"
   ]
  },
  {
   "cell_type": "code",
   "execution_count": null,
   "metadata": {},
   "outputs": [],
   "source": [
    "'''\n",
    "fh = open(\"./data/64_72hr_CH.xml\", \"r\")\n",
    "xml = fh.read()\n",
    "fh.close()\n",
    "\n",
    "print(xml)\n",
    "'''"
   ]
  },
  {
   "cell_type": "code",
   "execution_count": 44,
   "metadata": {},
   "outputs": [
    {
     "name": "stdout",
     "output_type": "stream",
     "text": [
      "鹽埕區\n",
      "鼓山區\n",
      "左營區\n",
      "楠梓區\n",
      "三民區\n",
      "新興區\n",
      "前金區\n",
      "苓雅區\n",
      "前鎮區\n",
      "旗津區\n",
      "小港區\n",
      "鳳山區\n",
      "林園區\n",
      "大寮區\n",
      "大樹區\n",
      "大社區\n",
      "仁武區\n",
      "鳥松區\n",
      "岡山區\n",
      "橋頭區\n",
      "燕巢區\n",
      "田寮區\n",
      "阿蓮區\n",
      "路竹區\n",
      "湖內區\n",
      "茄萣區\n",
      "永安區\n",
      "彌陀區\n",
      "梓官區\n",
      "旗山區\n",
      "美濃區\n",
      "六龜區\n",
      "甲仙區\n",
      "杉林區\n",
      "內門區\n",
      "茂林區\n",
      "桃源區\n",
      "那瑪夏區\n"
     ]
    },
    {
     "data": {
      "text/plain": [
       "38"
      ]
     },
     "execution_count": 44,
     "metadata": {},
     "output_type": "execute_result"
    }
   ],
   "source": [
    "# 1. 請問高雄市有多少地區有溫度資料？\n",
    "\n",
    "# 解析檔案內容\n",
    "import xmltodict\n",
    "\n",
    "fh = open(\"./data/64_72hr_CH.xml\", \"r\")\n",
    "d = dict(xmltodict.parse(fh.read()))\n",
    "#datasetDescription = d['cwbopendata']['dataset']['datasetInfo']['datasetLanguage']\n",
    "\n",
    "dataset = d['cwbopendata']['dataset']['locations']['location'] \n",
    "i = 0\n",
    "for data in dataset:\n",
    "    print(data['locationName'])\n",
    "    i= i+1\n",
    "i"
   ]
  },
  {
   "cell_type": "code",
   "execution_count": 72,
   "metadata": {},
   "outputs": [
    {
     "name": "stdout",
     "output_type": "stream",
     "text": [
      "鹽埕區\n",
      "2019-06-28T12:00:00+08:00 / 33\n",
      "鼓山區\n",
      "2019-06-28T12:00:00+08:00 / 33\n",
      "左營區\n",
      "2019-06-28T12:00:00+08:00 / 33\n",
      "楠梓區\n",
      "2019-06-28T12:00:00+08:00 / 34\n",
      "三民區\n",
      "2019-06-28T12:00:00+08:00 / 32\n",
      "新興區\n",
      "2019-06-28T12:00:00+08:00 / 33\n",
      "前金區\n",
      "2019-06-28T12:00:00+08:00 / 33\n",
      "苓雅區\n",
      "2019-06-28T12:00:00+08:00 / 33\n",
      "前鎮區\n",
      "2019-06-28T12:00:00+08:00 / 33\n",
      "旗津區\n",
      "2019-06-28T12:00:00+08:00 / 32\n",
      "小港區\n",
      "2019-06-28T12:00:00+08:00 / 33\n",
      "鳳山區\n",
      "2019-06-28T12:00:00+08:00 / 34\n",
      "林園區\n",
      "2019-06-28T12:00:00+08:00 / 33\n",
      "大寮區\n",
      "2019-06-28T12:00:00+08:00 / 34\n",
      "大樹區\n",
      "2019-06-28T12:00:00+08:00 / 34\n",
      "大社區\n",
      "2019-06-28T12:00:00+08:00 / 34\n",
      "仁武區\n",
      "2019-06-28T12:00:00+08:00 / 33\n",
      "鳥松區\n",
      "2019-06-28T12:00:00+08:00 / 34\n",
      "岡山區\n",
      "2019-06-28T12:00:00+08:00 / 34\n",
      "橋頭區\n",
      "2019-06-28T12:00:00+08:00 / 35\n",
      "燕巢區\n",
      "2019-06-28T12:00:00+08:00 / 34\n",
      "田寮區\n",
      "2019-06-28T12:00:00+08:00 / 34\n",
      "阿蓮區\n",
      "2019-06-28T12:00:00+08:00 / 34\n",
      "路竹區\n",
      "2019-06-28T12:00:00+08:00 / 33\n",
      "湖內區\n",
      "2019-06-28T12:00:00+08:00 / 33\n",
      "茄萣區\n",
      "2019-06-28T12:00:00+08:00 / 33\n",
      "永安區\n",
      "2019-06-28T12:00:00+08:00 / 32\n",
      "彌陀區\n",
      "2019-06-28T12:00:00+08:00 / 32\n",
      "梓官區\n",
      "2019-06-28T12:00:00+08:00 / 32\n",
      "旗山區\n",
      "2019-06-28T12:00:00+08:00 / 34\n",
      "美濃區\n",
      "2019-06-28T12:00:00+08:00 / 34\n",
      "六龜區\n",
      "2019-06-28T12:00:00+08:00 / 34\n",
      "甲仙區\n",
      "2019-06-28T12:00:00+08:00 / 33\n",
      "杉林區\n",
      "2019-06-28T12:00:00+08:00 / 36\n",
      "內門區\n",
      "2019-06-28T12:00:00+08:00 / 34\n",
      "茂林區\n",
      "2019-06-28T12:00:00+08:00 / 34\n",
      "桃源區\n",
      "2019-06-28T12:00:00+08:00 / 31\n",
      "那瑪夏區\n",
      "2019-06-28T12:00:00+08:00 / 29\n"
     ]
    }
   ],
   "source": [
    "# 2. 請取出每一個地區所記錄的第一個時間點跟溫度\n",
    "datatimeset = d['cwbopendata']['dataset']['locations']['location']#['weatherElement'] #['time']\n",
    "#print(datatime)\n",
    "for data in datatimeset:\n",
    "    print(data['locationName'])\n",
    "    a = data['weatherElement']\n",
    "    #for aa in a:\n",
    "    b = a[0]['time']\n",
    "    #for bb in b:\n",
    "    print(b[0]['dataTime'],\"/\",b[0]['elementValue']['value'])\n",
    "        "
   ]
  },
  {
   "cell_type": "code",
   "execution_count": 85,
   "metadata": {},
   "outputs": [
    {
     "name": "stdout",
     "output_type": "stream",
     "text": [
      "鹽埕區\n",
      "2019-06-28T12:00:00+08:00 / 33\n",
      "2019-06-28T15:00:00+08:00 / 33\n",
      "2019-06-28T18:00:00+08:00 / 32\n",
      "2019-06-28T21:00:00+08:00 / 30\n",
      "2019-06-29T00:00:00+08:00 / 30\n",
      "2019-06-29T03:00:00+08:00 / 29\n",
      "2019-06-29T06:00:00+08:00 / 28\n",
      "2019-06-29T09:00:00+08:00 / 31\n",
      "2019-06-29T12:00:00+08:00 / 32\n",
      "2019-06-29T15:00:00+08:00 / 32\n",
      "2019-06-29T18:00:00+08:00 / 31\n",
      "2019-06-29T21:00:00+08:00 / 30\n",
      "2019-06-30T00:00:00+08:00 / 29\n",
      "2019-06-30T03:00:00+08:00 / 28\n",
      "2019-06-30T06:00:00+08:00 / 28\n",
      "2019-06-30T09:00:00+08:00 / 31\n",
      "2019-06-30T12:00:00+08:00 / 32\n",
      "2019-06-30T15:00:00+08:00 / 32\n",
      "2019-06-30T18:00:00+08:00 / 31\n",
      "2019-06-30T21:00:00+08:00 / 30\n",
      "2019-07-01T00:00:00+08:00 / 29\n",
      "2019-07-01T03:00:00+08:00 / 29\n",
      "2019-07-01T06:00:00+08:00 / 28\n",
      "2019-07-01T09:00:00+08:00 / 31\n"
     ]
    }
   ],
   "source": [
    "# 3. 請取出第一個地區所記錄的每一個時間點跟溫度\n",
    "print(datatimeset[0]['locationName'])\n",
    "a = datatimeset[0]['weatherElement']\n",
    "#for aa in a:\n",
    "b = a[0]['time']\n",
    "for bb in b:\n",
    "    print(bb['dataTime'],\"/\",bb['elementValue']['value'])"
   ]
  },
  {
   "cell_type": "code",
   "execution_count": null,
   "metadata": {},
   "outputs": [],
   "source": []
  }
 ],
 "metadata": {
  "kernelspec": {
   "display_name": "Python [default]",
   "language": "python",
   "name": "python3"
  },
  "language_info": {
   "codemirror_mode": {
    "name": "ipython",
    "version": 3
   },
   "file_extension": ".py",
   "mimetype": "text/x-python",
   "name": "python",
   "nbconvert_exporter": "python",
   "pygments_lexer": "ipython3",
   "version": "3.5.6"
  }
 },
 "nbformat": 4,
 "nbformat_minor": 2
}
